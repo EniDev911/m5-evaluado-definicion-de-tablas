{
    "metadata": {
        "kernelspec": {
            "name": "SQL",
            "display_name": "SQL",
            "language": "sql"
        },
        "language_info": {
            "name": "sql",
            "version": ""
        }
    },
    "nbformat_minor": 2,
    "nbformat": 4,
    "cells": [
        {
            "cell_type": "markdown",
            "source": [
                "## Desafío 3 Marco Contreras - Definición de tablas"
            ],
            "metadata": {
                "azdata_cell_guid": "23f97ee8-6118-4423-94de-9fc4809eee64"
            },
            "attachments": {}
        },
        {
            "cell_type": "markdown",
            "source": [
                "\n",
                "### 3) Obtener el ID de la película “Titanic”."
            ],
            "metadata": {
                "azdata_cell_guid": "b440ccf9-3348-44e9-93ca-b76ee463051b"
            },
            "attachments": {}
        },
        {
            "cell_type": "code",
            "source": [
                "SELECT id FROM peliculas WHERE pelicula = 'Titanic';"
            ],
            "metadata": {
                "azdata_cell_guid": "f75423bd-f346-4f18-8b17-9c9b651d424d",
                "language": "sql"
            },
            "outputs": [
                {
                    "output_type": "display_data",
                    "data": {
                        "text/html": "(1 row(s) affected)"
                    },
                    "metadata": {}
                },
                {
                    "output_type": "display_data",
                    "data": {
                        "text/html": "Total execution time: 00:00:00.005"
                    },
                    "metadata": {}
                },
                {
                    "output_type": "execute_result",
                    "metadata": {},
                    "execution_count": 3,
                    "data": {
                        "application/vnd.dataresource+json": {
                            "schema": {
                                "fields": [
                                    {
                                        "name": "id"
                                    }
                                ]
                            },
                            "data": [
                                {
                                    "0": "2"
                                }
                            ]
                        },
                        "text/html": [
                            "<table>",
                            "<tr><th>id</th></tr>",
                            "<tr><td>2</td></tr>",
                            "</table>"
                        ]
                    }
                }
            ],
            "execution_count": 3
        },
        {
            "cell_type": "markdown",
            "source": [
                "### 4) Listar a todos los actores que aparecen en la película \"Titanic\"."
            ],
            "metadata": {
                "language": "sql",
                "azdata_cell_guid": "022be2e6-3d28-4a2d-9eda-ce0b36649110"
            },
            "attachments": {}
        },
        {
            "cell_type": "code",
            "source": [
                "SELECT nombre_actor AS actor FROM peliculas \r\n",
                "INNER JOIN reparto ON peliculas.id = reparto.id_pelicula\r\n",
                "WHERE pelicula = 'Titanic';"
            ],
            "metadata": {
                "language": "sql",
                "azdata_cell_guid": "9c9da4c8-ba4c-4a52-8887-5fa92288f213"
            },
            "outputs": [
                {
                    "output_type": "display_data",
                    "data": {
                        "text/html": "(13 row(s) affected)"
                    },
                    "metadata": {}
                },
                {
                    "output_type": "display_data",
                    "data": {
                        "text/html": "Total execution time: 00:00:00.003"
                    },
                    "metadata": {}
                },
                {
                    "output_type": "execute_result",
                    "metadata": {},
                    "execution_count": 4,
                    "data": {
                        "application/vnd.dataresource+json": {
                            "schema": {
                                "fields": [
                                    {
                                        "name": "actor"
                                    }
                                ]
                            },
                            "data": [
                                {
                                    "0": "Leonardo DiCaprio"
                                },
                                {
                                    "0": "Kate Winslet"
                                },
                                {
                                    "0": "Billy Zane"
                                },
                                {
                                    "0": "Kathy Bates"
                                },
                                {
                                    "0": "Frances Fisher"
                                },
                                {
                                    "0": "Bernard Hill"
                                },
                                {
                                    "0": "Jonathan Hyde"
                                },
                                {
                                    "0": "Danny Nucci"
                                },
                                {
                                    "0": "David Warner"
                                },
                                {
                                    "0": "Bill Paxton"
                                },
                                {
                                    "0": "Gloria Stuart"
                                },
                                {
                                    "0": "Victor Garber"
                                },
                                {
                                    "0": "Suzy Amis"
                                }
                            ]
                        },
                        "text/html": [
                            "<table>",
                            "<tr><th>actor</th></tr>",
                            "<tr><td>Leonardo DiCaprio</td></tr>",
                            "<tr><td>Kate Winslet</td></tr>",
                            "<tr><td>Billy Zane</td></tr>",
                            "<tr><td>Kathy Bates</td></tr>",
                            "<tr><td>Frances Fisher</td></tr>",
                            "<tr><td>Bernard Hill</td></tr>",
                            "<tr><td>Jonathan Hyde</td></tr>",
                            "<tr><td>Danny Nucci</td></tr>",
                            "<tr><td>David Warner</td></tr>",
                            "<tr><td>Bill Paxton</td></tr>",
                            "<tr><td>Gloria Stuart</td></tr>",
                            "<tr><td>Victor Garber</td></tr>",
                            "<tr><td>Suzy Amis</td></tr>",
                            "</table>"
                        ]
                    }
                }
            ],
            "execution_count": 4
        },
        {
            "cell_type": "markdown",
            "source": [
                "### 5) Consultar en cuántas películas del top 100 participa Harrison Ford."
            ],
            "metadata": {
                "language": "sql",
                "azdata_cell_guid": "45ca7d45-aa78-4acf-a77e-c52241f61f76"
            },
            "attachments": {}
        },
        {
            "cell_type": "code",
            "source": [
                "SELECT nombre_actor AS actor, COUNT(id_pelicula) AS participaciones FROM reparto \r\n",
                "WHERE nombre_actor = 'Harrison Ford'\r\n",
                "GROUP BY actor;"
            ],
            "metadata": {
                "language": "sql",
                "azdata_cell_guid": "bc8e8cef-417e-4779-adfd-78c022e09405"
            },
            "outputs": [
                {
                    "output_type": "display_data",
                    "data": {
                        "text/html": "(1 row(s) affected)"
                    },
                    "metadata": {}
                },
                {
                    "output_type": "display_data",
                    "data": {
                        "text/html": "Total execution time: 00:00:00.005"
                    },
                    "metadata": {}
                },
                {
                    "output_type": "execute_result",
                    "metadata": {},
                    "execution_count": 5,
                    "data": {
                        "application/vnd.dataresource+json": {
                            "schema": {
                                "fields": [
                                    {
                                        "name": "actor"
                                    },
                                    {
                                        "name": "participaciones"
                                    }
                                ]
                            },
                            "data": [
                                {
                                    "0": "Harrison Ford",
                                    "1": "8"
                                }
                            ]
                        },
                        "text/html": [
                            "<table>",
                            "<tr><th>actor</th><th>participaciones</th></tr>",
                            "<tr><td>Harrison Ford</td><td>8</td></tr>",
                            "</table>"
                        ]
                    }
                }
            ],
            "execution_count": 5
        },
        {
            "cell_type": "markdown",
            "source": [
                "### 6) Indicar las películas estrenadas entre los años 1990 y 1999 ordenadas por título de manera ascendente.\r\n",
                ""
            ],
            "metadata": {
                "language": "sql",
                "azdata_cell_guid": "d75edfc1-d639-4485-abdb-57577cbd859f"
            },
            "attachments": {}
        },
        {
            "cell_type": "code",
            "source": [
                "SELECT pelicula, \"año estreno\" FROM peliculas\r\n",
                "WHERE \"año estreno\" BETWEEN 1990 AND 1999\r\n",
                "ORDER BY pelicula ASC;"
            ],
            "metadata": {
                "language": "sql",
                "azdata_cell_guid": "674a947b-86b3-4ba7-89d0-191b60cf484b",
                "tags": []
            },
            "outputs": [
                {
                    "output_type": "display_data",
                    "data": {
                        "text/html": "(30 row(s) affected)"
                    },
                    "metadata": {}
                },
                {
                    "output_type": "display_data",
                    "data": {
                        "text/html": "Total execution time: 00:00:00.008"
                    },
                    "metadata": {}
                },
                {
                    "output_type": "execute_result",
                    "metadata": {},
                    "execution_count": 7,
                    "data": {
                        "application/vnd.dataresource+json": {
                            "schema": {
                                "fields": [
                                    {
                                        "name": "pelicula"
                                    },
                                    {
                                        "name": "año estreno"
                                    }
                                ]
                            },
                            "data": [
                                {
                                    "0": "American Beauty",
                                    "1": "1999"
                                },
                                {
                                    "0": "American History X",
                                    "1": "1998"
                                },
                                {
                                    "0": "Braveheart",
                                    "1": "1995"
                                },
                                {
                                    "0": "Cadena perpetua",
                                    "1": "1994"
                                },
                                {
                                    "0": "Eduardo Manostijeras",
                                    "1": "1990"
                                },
                                {
                                    "0": "El club de la pelea",
                                    "1": "1999"
                                },
                                {
                                    "0": "El Padrino. Parte III",
                                    "1": "1990"
                                },
                                {
                                    "0": "El profesional",
                                    "1": "1994"
                                },
                                {
                                    "0": "El sexto sentido",
                                    "1": "1999"
                                },
                                {
                                    "0": "El show de Truman",
                                    "1": "1998"
                                },
                                {
                                    "0": "El silencio de los corderos",
                                    "1": "1991"
                                },
                                {
                                    "0": "Entrevista con el vampiro",
                                    "1": "1994"
                                },
                                {
                                    "0": "Forest Gump",
                                    "1": "1994"
                                },
                                {
                                    "0": "Hombres de negro",
                                    "1": "1997"
                                },
                                {
                                    "0": "La lista de Schindler",
                                    "1": "1993"
                                },
                                {
                                    "0": "La milla verde",
                                    "1": "1999"
                                },
                                {
                                    "0": "Matrix",
                                    "1": "1999"
                                },
                                {
                                    "0": "Mejor... imposible",
                                    "1": "1997"
                                },
                                {
                                    "0": "Parque Jurásico",
                                    "1": "1993"
                                },
                                {
                                    "0": "Pesadilla antes de navidad",
                                    "1": "1993"
                                },
                                {
                                    "0": "Pulp Fiction",
                                    "1": "1994"
                                },
                                {
                                    "0": "Salvar al soldado Ryan",
                                    "1": "1998"
                                },
                                {
                                    "0": "Seven",
                                    "1": "1995"
                                },
                                {
                                    "0": "Star Wars. Episodio I: La amenaza fantasma",
                                    "1": "1999"
                                },
                                {
                                    "0": "Terminator 2: el juicio final",
                                    "1": "1991"
                                },
                                {
                                    "0": "Titanic",
                                    "1": "1997"
                                },
                                {
                                    "0": "Toy Story",
                                    "1": "1995"
                                },
                                {
                                    "0": "Toy Story 2",
                                    "1": "1999"
                                },
                                {
                                    "0": "Trainspotting",
                                    "1": "1996"
                                },
                                {
                                    "0": "Uno de los nuestros",
                                    "1": "1990"
                                }
                            ]
                        },
                        "text/html": [
                            "<table>",
                            "<tr><th>pelicula</th><th>año estreno</th></tr>",
                            "<tr><td>American Beauty</td><td>1999</td></tr>",
                            "<tr><td>American History X</td><td>1998</td></tr>",
                            "<tr><td>Braveheart</td><td>1995</td></tr>",
                            "<tr><td>Cadena perpetua</td><td>1994</td></tr>",
                            "<tr><td>Eduardo Manostijeras</td><td>1990</td></tr>",
                            "<tr><td>El club de la pelea</td><td>1999</td></tr>",
                            "<tr><td>El Padrino. Parte III</td><td>1990</td></tr>",
                            "<tr><td>El profesional</td><td>1994</td></tr>",
                            "<tr><td>El sexto sentido</td><td>1999</td></tr>",
                            "<tr><td>El show de Truman</td><td>1998</td></tr>",
                            "<tr><td>El silencio de los corderos</td><td>1991</td></tr>",
                            "<tr><td>Entrevista con el vampiro</td><td>1994</td></tr>",
                            "<tr><td>Forest Gump</td><td>1994</td></tr>",
                            "<tr><td>Hombres de negro</td><td>1997</td></tr>",
                            "<tr><td>La lista de Schindler</td><td>1993</td></tr>",
                            "<tr><td>La milla verde</td><td>1999</td></tr>",
                            "<tr><td>Matrix</td><td>1999</td></tr>",
                            "<tr><td>Mejor... imposible</td><td>1997</td></tr>",
                            "<tr><td>Parque Jurásico</td><td>1993</td></tr>",
                            "<tr><td>Pesadilla antes de navidad</td><td>1993</td></tr>",
                            "<tr><td>Pulp Fiction</td><td>1994</td></tr>",
                            "<tr><td>Salvar al soldado Ryan</td><td>1998</td></tr>",
                            "<tr><td>Seven</td><td>1995</td></tr>",
                            "<tr><td>Star Wars. Episodio I: La amenaza fantasma</td><td>1999</td></tr>",
                            "<tr><td>Terminator 2: el juicio final</td><td>1991</td></tr>",
                            "<tr><td>Titanic</td><td>1997</td></tr>",
                            "<tr><td>Toy Story</td><td>1995</td></tr>",
                            "<tr><td>Toy Story 2</td><td>1999</td></tr>",
                            "<tr><td>Trainspotting</td><td>1996</td></tr>",
                            "<tr><td>Uno de los nuestros</td><td>1990</td></tr>",
                            "</table>"
                        ]
                    }
                }
            ],
            "execution_count": 7
        },
        {
            "cell_type": "markdown",
            "source": [
                "### 7) Hacer una consulta SQL que muestre los títulos con su longitud, la longitud debe ser nombrado para la consulta como “longitud_titulo\""
            ],
            "metadata": {
                "azdata_cell_guid": "4750c527-8729-4f8e-bbbe-89ce3628e8ca"
            },
            "attachments": {}
        },
        {
            "cell_type": "code",
            "source": [
                "SELECT pelicula, CHAR_LENGTH(pelicula) AS longitud_titulo FROM peliculas;"
            ],
            "metadata": {
                "azdata_cell_guid": "d41ac6ae-869e-45b5-a6a8-02d4dd38237d",
                "language": "sql"
            },
            "outputs": [
                {
                    "output_type": "display_data",
                    "data": {
                        "text/html": "(100 row(s) affected)"
                    },
                    "metadata": {}
                },
                {
                    "output_type": "display_data",
                    "data": {
                        "text/html": "Total execution time: 00:00:00.006"
                    },
                    "metadata": {}
                },
                {
                    "output_type": "execute_result",
                    "metadata": {},
                    "execution_count": 8,
                    "data": {
                        "application/vnd.dataresource+json": {
                            "schema": {
                                "fields": [
                                    {
                                        "name": "pelicula"
                                    },
                                    {
                                        "name": "longitud_titulo"
                                    }
                                ]
                            },
                            "data": [
                                {
                                    "0": "Forest Gump",
                                    "1": "11"
                                },
                                {
                                    "0": "Titanic",
                                    "1": "7"
                                },
                                {
                                    "0": "El Padrino",
                                    "1": "10"
                                },
                                {
                                    "0": "Gladiator",
                                    "1": "9"
                                },
                                {
                                    "0": "El Señor de los anillos: El retorno del rey",
                                    "1": "43"
                                },
                                {
                                    "0": "El caballero oscuro",
                                    "1": "19"
                                },
                                {
                                    "0": "Cadena perpetua",
                                    "1": "15"
                                },
                                {
                                    "0": "Piratas del Caribe: La maldición de la Perla Negra",
                                    "1": "50"
                                },
                                {
                                    "0": "Braveheart",
                                    "1": "10"
                                },
                                {
                                    "0": "La lista de Schindler",
                                    "1": "21"
                                },
                                {
                                    "0": "Toy Story",
                                    "1": "9"
                                },
                                {
                                    "0": "Eduardo Manostijeras",
                                    "1": "20"
                                },
                                {
                                    "0": "El Señor de los anillos: La comunidad del anillo",
                                    "1": "48"
                                },
                                {
                                    "0": "Salvar al soldado Ryan",
                                    "1": "22"
                                },
                                {
                                    "0": "Regreso al futuro",
                                    "1": "17"
                                },
                                {
                                    "0": "Monstruos S.A.",
                                    "1": "14"
                                },
                                {
                                    "0": "Buscando a Nemo",
                                    "1": "15"
                                },
                                {
                                    "0": "El Señor de los anillos: Las dos torres",
                                    "1": "39"
                                },
                                {
                                    "0": "Harry Potter y el Prisionero de Azkaban",
                                    "1": "39"
                                },
                                {
                                    "0": "American History X",
                                    "1": "18"
                                },
                                {
                                    "0": "300",
                                    "1": "3"
                                },
                                {
                                    "0": "El sexto sentido",
                                    "1": "16"
                                },
                                {
                                    "0": "Pulp Fiction",
                                    "1": "12"
                                },
                                {
                                    "0": "V de Vendetta",
                                    "1": "13"
                                },
                                {
                                    "0": "El silencio de los corderos",
                                    "1": "27"
                                },
                                {
                                    "0": "Rocky",
                                    "1": "5"
                                },
                                {
                                    "0": "El club de la pelea",
                                    "1": "19"
                                },
                                {
                                    "0": "E.T",
                                    "1": "3"
                                },
                                {
                                    "0": "Parque Jurásico",
                                    "1": "15"
                                },
                                {
                                    "0": "Matrix",
                                    "1": "6"
                                },
                                {
                                    "0": "La milla verde",
                                    "1": "14"
                                },
                                {
                                    "0": "Ratatouille",
                                    "1": "11"
                                },
                                {
                                    "0": "Grease",
                                    "1": "6"
                                },
                                {
                                    "0": "El Padrino. Parte II",
                                    "1": "20"
                                },
                                {
                                    "0": "Wall-E",
                                    "1": "6"
                                },
                                {
                                    "0": "Iron Man",
                                    "1": "8"
                                },
                                {
                                    "0": "El exorcista",
                                    "1": "12"
                                },
                                {
                                    "0": "Piratas del Caribe: El cofre del hombre muerto",
                                    "1": "46"
                                },
                                {
                                    "0": "Seven",
                                    "1": "5"
                                },
                                {
                                    "0": "Terminator 2: el juicio final",
                                    "1": "29"
                                },
                                {
                                    "0": "El resplandor",
                                    "1": "13"
                                },
                                {
                                    "0": "Hombres de negro",
                                    "1": "16"
                                },
                                {
                                    "0": "Spider-Man",
                                    "1": "10"
                                },
                                {
                                    "0": "Regreso al futuro II",
                                    "1": "20"
                                },
                                {
                                    "0": "El show de Truman",
                                    "1": "17"
                                },
                                {
                                    "0": "Toy Story 2",
                                    "1": "11"
                                },
                                {
                                    "0": "Pesadilla antes de navidad",
                                    "1": "26"
                                },
                                {
                                    "0": "Star Wars. Episodio IV: Una nueva esperanza",
                                    "1": "43"
                                },
                                {
                                    "0": "Saw",
                                    "1": "3"
                                },
                                {
                                    "0": "Terminator",
                                    "1": "10"
                                },
                                {
                                    "0": "Kill Bill Vol. 1",
                                    "1": "16"
                                },
                                {
                                    "0": "Lo que el viento se llevó",
                                    "1": "25"
                                },
                                {
                                    "0": "El Laberinto del Fauno",
                                    "1": "22"
                                },
                                {
                                    "0": "Los increíbles",
                                    "1": "14"
                                },
                                {
                                    "0": "El viaje de Chihiro",
                                    "1": "19"
                                },
                                {
                                    "0": "El precio del poder",
                                    "1": "19"
                                },
                                {
                                    "0": "King Kong",
                                    "1": "9"
                                },
                                {
                                    "0": "Ben-Hur",
                                    "1": "7"
                                },
                                {
                                    "0": "Indiana Jones y la última cruzada",
                                    "1": "33"
                                },
                                {
                                    "0": "Infiltrados",
                                    "1": "11"
                                },
                                {
                                    "0": "Entrevista con el vampiro",
                                    "1": "25"
                                },
                                {
                                    "0": "Batman Begins",
                                    "1": "13"
                                },
                                {
                                    "0": "En busca del arca perdida",
                                    "1": "25"
                                },
                                {
                                    "0": "Star Wars. Episodio III: La venganza de los Sith",
                                    "1": "48"
                                },
                                {
                                    "0": "Alien",
                                    "1": "5"
                                },
                                {
                                    "0": "El bueno el feo y el malo",
                                    "1": "25"
                                },
                                {
                                    "0": "Star Wars. Episodio V: El imperio contraataca",
                                    "1": "45"
                                },
                                {
                                    "0": "El Padrino. Parte III",
                                    "1": "21"
                                },
                                {
                                    "0": "Star Wars. Episodio VI: El retorno del Jedi",
                                    "1": "43"
                                },
                                {
                                    "0": "Escuela de Rock",
                                    "1": "15"
                                },
                                {
                                    "0": "El planeta de los simios",
                                    "1": "24"
                                },
                                {
                                    "0": "Rambo",
                                    "1": "5"
                                },
                                {
                                    "0": "Full Metal Jacket",
                                    "1": "17"
                                },
                                {
                                    "0": "Tiburón",
                                    "1": "7"
                                },
                                {
                                    "0": "El profesional",
                                    "1": "14"
                                },
                                {
                                    "0": "American Beauty",
                                    "1": "15"
                                },
                                {
                                    "0": "Casablanca",
                                    "1": "10"
                                },
                                {
                                    "0": "Amélie",
                                    "1": "6"
                                },
                                {
                                    "0": "Trainspotting",
                                    "1": "13"
                                },
                                {
                                    "0": "axi driver",
                                    "1": "10"
                                },
                                {
                                    "0": "Alguien voló sobre el nido del cuco",
                                    "1": "35"
                                },
                                {
                                    "0": "Kill Bill Vol. 2",
                                    "1": "16"
                                },
                                {
                                    "0": "Spider-Man 2",
                                    "1": "12"
                                },
                                {
                                    "0": "X-Men 2",
                                    "1": "7"
                                },
                                {
                                    "0": "Transformers",
                                    "1": "12"
                                },
                                {
                                    "0": "Star Wars. Episodio I: La amenaza fantasma",
                                    "1": "42"
                                },
                                {
                                    "0": "Blade Runner",
                                    "1": "12"
                                },
                                {
                                    "0": "Apocalypse Now",
                                    "1": "14"
                                },
                                {
                                    "0": "Mejor... imposible",
                                    "1": "18"
                                },
                                {
                                    "0": "La vida de Brian",
                                    "1": "16"
                                },
                                {
                                    "0": "El libro de la selva",
                                    "1": "20"
                                },
                                {
                                    "0": "Los cazafantasmas",
                                    "1": "17"
                                },
                                {
                                    "0": "Sweeney Todd: El barbero diabólico de la calle Fleet",
                                    "1": "52"
                                },
                                {
                                    "0": "Ocean's Eleven",
                                    "1": "14"
                                },
                                {
                                    "0": "Blancanieves y los siete enanitos",
                                    "1": "33"
                                },
                                {
                                    "0": "Predator",
                                    "1": "8"
                                },
                                {
                                    "0": "Indiana Jones y el templo maldito",
                                    "1": "33"
                                },
                                {
                                    "0": "Uno de los nuestros",
                                    "1": "19"
                                },
                                {
                                    "0": "Mouling Rouge",
                                    "1": "13"
                                },
                                {
                                    "0": "Psicosis",
                                    "1": "8"
                                }
                            ]
                        },
                        "text/html": [
                            "<table>",
                            "<tr><th>pelicula</th><th>longitud_titulo</th></tr>",
                            "<tr><td>Forest Gump</td><td>11</td></tr>",
                            "<tr><td>Titanic</td><td>7</td></tr>",
                            "<tr><td>El Padrino</td><td>10</td></tr>",
                            "<tr><td>Gladiator</td><td>9</td></tr>",
                            "<tr><td>El Señor de los anillos: El retorno del rey</td><td>43</td></tr>",
                            "<tr><td>El caballero oscuro</td><td>19</td></tr>",
                            "<tr><td>Cadena perpetua</td><td>15</td></tr>",
                            "<tr><td>Piratas del Caribe: La maldición de la Perla Negra</td><td>50</td></tr>",
                            "<tr><td>Braveheart</td><td>10</td></tr>",
                            "<tr><td>La lista de Schindler</td><td>21</td></tr>",
                            "<tr><td>Toy Story</td><td>9</td></tr>",
                            "<tr><td>Eduardo Manostijeras</td><td>20</td></tr>",
                            "<tr><td>El Señor de los anillos: La comunidad del anillo</td><td>48</td></tr>",
                            "<tr><td>Salvar al soldado Ryan</td><td>22</td></tr>",
                            "<tr><td>Regreso al futuro</td><td>17</td></tr>",
                            "<tr><td>Monstruos S.A.</td><td>14</td></tr>",
                            "<tr><td>Buscando a Nemo</td><td>15</td></tr>",
                            "<tr><td>El Señor de los anillos: Las dos torres</td><td>39</td></tr>",
                            "<tr><td>Harry Potter y el Prisionero de Azkaban</td><td>39</td></tr>",
                            "<tr><td>American History X</td><td>18</td></tr>",
                            "<tr><td>300</td><td>3</td></tr>",
                            "<tr><td>El sexto sentido</td><td>16</td></tr>",
                            "<tr><td>Pulp Fiction</td><td>12</td></tr>",
                            "<tr><td>V de Vendetta</td><td>13</td></tr>",
                            "<tr><td>El silencio de los corderos</td><td>27</td></tr>",
                            "<tr><td>Rocky</td><td>5</td></tr>",
                            "<tr><td>El club de la pelea</td><td>19</td></tr>",
                            "<tr><td>E.T</td><td>3</td></tr>",
                            "<tr><td>Parque Jurásico</td><td>15</td></tr>",
                            "<tr><td>Matrix</td><td>6</td></tr>",
                            "<tr><td>La milla verde</td><td>14</td></tr>",
                            "<tr><td>Ratatouille</td><td>11</td></tr>",
                            "<tr><td>Grease</td><td>6</td></tr>",
                            "<tr><td>El Padrino. Parte II</td><td>20</td></tr>",
                            "<tr><td>Wall-E</td><td>6</td></tr>",
                            "<tr><td>Iron Man</td><td>8</td></tr>",
                            "<tr><td>El exorcista</td><td>12</td></tr>",
                            "<tr><td>Piratas del Caribe: El cofre del hombre muerto</td><td>46</td></tr>",
                            "<tr><td>Seven</td><td>5</td></tr>",
                            "<tr><td>Terminator 2: el juicio final</td><td>29</td></tr>",
                            "<tr><td>El resplandor</td><td>13</td></tr>",
                            "<tr><td>Hombres de negro</td><td>16</td></tr>",
                            "<tr><td>Spider-Man</td><td>10</td></tr>",
                            "<tr><td>Regreso al futuro II</td><td>20</td></tr>",
                            "<tr><td>El show de Truman</td><td>17</td></tr>",
                            "<tr><td>Toy Story 2</td><td>11</td></tr>",
                            "<tr><td>Pesadilla antes de navidad</td><td>26</td></tr>",
                            "<tr><td>Star Wars. Episodio IV: Una nueva esperanza</td><td>43</td></tr>",
                            "<tr><td>Saw</td><td>3</td></tr>",
                            "<tr><td>Terminator</td><td>10</td></tr>",
                            "<tr><td>Kill Bill Vol. 1</td><td>16</td></tr>",
                            "<tr><td>Lo que el viento se llevó</td><td>25</td></tr>",
                            "<tr><td>El Laberinto del Fauno</td><td>22</td></tr>",
                            "<tr><td>Los increíbles</td><td>14</td></tr>",
                            "<tr><td>El viaje de Chihiro</td><td>19</td></tr>",
                            "<tr><td>El precio del poder</td><td>19</td></tr>",
                            "<tr><td>King Kong</td><td>9</td></tr>",
                            "<tr><td>Ben-Hur</td><td>7</td></tr>",
                            "<tr><td>Indiana Jones y la última cruzada</td><td>33</td></tr>",
                            "<tr><td>Infiltrados</td><td>11</td></tr>",
                            "<tr><td>Entrevista con el vampiro</td><td>25</td></tr>",
                            "<tr><td>Batman Begins</td><td>13</td></tr>",
                            "<tr><td>En busca del arca perdida</td><td>25</td></tr>",
                            "<tr><td>Star Wars. Episodio III: La venganza de los Sith</td><td>48</td></tr>",
                            "<tr><td>Alien</td><td>5</td></tr>",
                            "<tr><td>El bueno el feo y el malo</td><td>25</td></tr>",
                            "<tr><td>Star Wars. Episodio V: El imperio contraataca</td><td>45</td></tr>",
                            "<tr><td>El Padrino. Parte III</td><td>21</td></tr>",
                            "<tr><td>Star Wars. Episodio VI: El retorno del Jedi</td><td>43</td></tr>",
                            "<tr><td>Escuela de Rock</td><td>15</td></tr>",
                            "<tr><td>El planeta de los simios</td><td>24</td></tr>",
                            "<tr><td>Rambo</td><td>5</td></tr>",
                            "<tr><td>Full Metal Jacket</td><td>17</td></tr>",
                            "<tr><td>Tiburón</td><td>7</td></tr>",
                            "<tr><td>El profesional</td><td>14</td></tr>",
                            "<tr><td>American Beauty</td><td>15</td></tr>",
                            "<tr><td>Casablanca</td><td>10</td></tr>",
                            "<tr><td>Amélie</td><td>6</td></tr>",
                            "<tr><td>Trainspotting</td><td>13</td></tr>",
                            "<tr><td>axi driver</td><td>10</td></tr>",
                            "<tr><td>Alguien voló sobre el nido del cuco</td><td>35</td></tr>",
                            "<tr><td>Kill Bill Vol. 2</td><td>16</td></tr>",
                            "<tr><td>Spider-Man 2</td><td>12</td></tr>",
                            "<tr><td>X-Men 2</td><td>7</td></tr>",
                            "<tr><td>Transformers</td><td>12</td></tr>",
                            "<tr><td>Star Wars. Episodio I: La amenaza fantasma</td><td>42</td></tr>",
                            "<tr><td>Blade Runner</td><td>12</td></tr>",
                            "<tr><td>Apocalypse Now</td><td>14</td></tr>",
                            "<tr><td>Mejor... imposible</td><td>18</td></tr>",
                            "<tr><td>La vida de Brian</td><td>16</td></tr>",
                            "<tr><td>El libro de la selva</td><td>20</td></tr>",
                            "<tr><td>Los cazafantasmas</td><td>17</td></tr>",
                            "<tr><td>Sweeney Todd: El barbero diabólico de la calle Fleet</td><td>52</td></tr>",
                            "<tr><td>Ocean's Eleven</td><td>14</td></tr>",
                            "<tr><td>Blancanieves y los siete enanitos</td><td>33</td></tr>",
                            "<tr><td>Predator</td><td>8</td></tr>",
                            "<tr><td>Indiana Jones y el templo maldito</td><td>33</td></tr>",
                            "<tr><td>Uno de los nuestros</td><td>19</td></tr>",
                            "<tr><td>Mouling Rouge</td><td>13</td></tr>",
                            "<tr><td>Psicosis</td><td>8</td></tr>",
                            "</table>"
                        ]
                    }
                }
            ],
            "execution_count": 8
        },
        {
            "cell_type": "markdown",
            "source": [
                "### 8) Consultar cual es la longitud más grande entre todos los títulos de las películas."
            ],
            "metadata": {
                "language": "sql",
                "azdata_cell_guid": "f25f94a0-7985-40d5-bd89-5fc606bcd79a"
            },
            "attachments": {}
        },
        {
            "cell_type": "code",
            "source": [
                "SELECT pelicula, CHAR_LENGTH(pelicula) AS longitud_titulo \r\n",
                "FROM peliculas\r\n",
                "GROUP BY pelicula\r\n",
                "ORDER BY longitud_titulo DESC LIMIT 1;"
            ],
            "metadata": {
                "language": "sql",
                "azdata_cell_guid": "6f54edfa-5c6e-4ab0-96d4-f574783f5e63"
            },
            "outputs": [
                {
                    "output_type": "display_data",
                    "data": {
                        "text/html": "(1 row(s) affected)"
                    },
                    "metadata": {}
                },
                {
                    "output_type": "display_data",
                    "data": {
                        "text/html": "Total execution time: 00:00:00.004"
                    },
                    "metadata": {}
                },
                {
                    "output_type": "execute_result",
                    "metadata": {},
                    "execution_count": 10,
                    "data": {
                        "application/vnd.dataresource+json": {
                            "schema": {
                                "fields": [
                                    {
                                        "name": "pelicula"
                                    },
                                    {
                                        "name": "longitud_titulo"
                                    }
                                ]
                            },
                            "data": [
                                {
                                    "0": "Sweeney Todd: El barbero diabólico de la calle Fleet",
                                    "1": "52"
                                }
                            ]
                        },
                        "text/html": [
                            "<table>",
                            "<tr><th>pelicula</th><th>longitud_titulo</th></tr>",
                            "<tr><td>Sweeney Todd: El barbero diabólico de la calle Fleet</td><td>52</td></tr>",
                            "</table>"
                        ]
                    }
                }
            ],
            "execution_count": 10
        }
    ]
}